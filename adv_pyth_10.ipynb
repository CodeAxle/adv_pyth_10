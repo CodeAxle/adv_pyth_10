{
 "cells": [
  {
   "cell_type": "markdown",
   "id": "ed0dc1cf",
   "metadata": {},
   "source": [
    "# 1."
   ]
  },
  {
   "cell_type": "code",
   "execution_count": 1,
   "id": "23c77bf5",
   "metadata": {},
   "outputs": [
    {
     "name": "stdout",
     "output_type": "stream",
     "text": [
      "Attribute undefined_attribute not found\n",
      "None\n"
     ]
    }
   ],
   "source": [
    "# The __getattr__ and __getattribute__ methods in Python are both related to attribute access in classes, but they serve \n",
    "# different purposes and have different behaviors:\n",
    "\n",
    "# a) __getattr__:\n",
    "\n",
    "# 1. This method is invoked when the requested attribute is not found through the normal lookup process.\n",
    "# 2. It is called only when the attribute is not found in the instance's dictionary (__dict__) or in its class hierarchy.\n",
    "# 3. Use __getattr__ when you want to handle attribute access for attributes that are not directly defined in the class or its\n",
    "#     parent classes.\n",
    "    \n",
    "# example:\n",
    "class MyClass:\n",
    "    def __getattr__(self, name):\n",
    "        print(f'Attribute {name} not found')\n",
    "        return None\n",
    "\n",
    "obj = MyClass()\n",
    "print(obj.undefined_attribute)  # This will trigger __getattr__"
   ]
  },
  {
   "cell_type": "code",
   "execution_count": 2,
   "id": "ce8dabb7",
   "metadata": {},
   "outputs": [
    {
     "name": "stdout",
     "output_type": "stream",
     "text": [
      "Accessing attribute some_attribute\n"
     ]
    },
    {
     "ename": "AttributeError",
     "evalue": "'MyClass' object has no attribute 'some_attribute'",
     "output_type": "error",
     "traceback": [
      "\u001b[1;31m---------------------------------------------------------------------------\u001b[0m",
      "\u001b[1;31mAttributeError\u001b[0m                            Traceback (most recent call last)",
      "Cell \u001b[1;32mIn[2], line 15\u001b[0m\n\u001b[0;32m     12\u001b[0m         \u001b[38;5;28;01mreturn\u001b[39;00m \u001b[38;5;28mobject\u001b[39m\u001b[38;5;241m.\u001b[39m\u001b[38;5;21m__getattribute__\u001b[39m(\u001b[38;5;28mself\u001b[39m, name)  \u001b[38;5;66;03m# Call the superclass implementation\u001b[39;00m\n\u001b[0;32m     14\u001b[0m obj \u001b[38;5;241m=\u001b[39m MyClass()\n\u001b[1;32m---> 15\u001b[0m \u001b[38;5;28mprint\u001b[39m(obj\u001b[38;5;241m.\u001b[39msome_attribute)\n",
      "Cell \u001b[1;32mIn[2], line 12\u001b[0m, in \u001b[0;36mMyClass.__getattribute__\u001b[1;34m(self, name)\u001b[0m\n\u001b[0;32m     10\u001b[0m \u001b[38;5;28;01mdef\u001b[39;00m \u001b[38;5;21m__getattribute__\u001b[39m(\u001b[38;5;28mself\u001b[39m, name):\n\u001b[0;32m     11\u001b[0m     \u001b[38;5;28mprint\u001b[39m(\u001b[38;5;124mf\u001b[39m\u001b[38;5;124m'\u001b[39m\u001b[38;5;124mAccessing attribute \u001b[39m\u001b[38;5;132;01m{\u001b[39;00mname\u001b[38;5;132;01m}\u001b[39;00m\u001b[38;5;124m'\u001b[39m)\n\u001b[1;32m---> 12\u001b[0m     \u001b[38;5;28;01mreturn\u001b[39;00m \u001b[38;5;28mobject\u001b[39m\u001b[38;5;241m.\u001b[39m\u001b[38;5;21m__getattribute__\u001b[39m(\u001b[38;5;28mself\u001b[39m, name)\n",
      "\u001b[1;31mAttributeError\u001b[0m: 'MyClass' object has no attribute 'some_attribute'"
     ]
    }
   ],
   "source": [
    "# b) __getattribute__:\n",
    "\n",
    "# 1. This method is called for every attribute access, regardless of whether the attribute exists or not.\n",
    "# 2. It is called first in the attribute lookup chain, even before checking the instance's dictionary or the class hierarchy.\n",
    "# 3. Use __getattribute__ when you need to intercept and customize all attribute accesses, including existing attributes.\n",
    "# 4. Caution must be exercised when using __getattribute__ as it can lead to infinite recursion if not implemented carefully.\n",
    "\n",
    "# example:\n",
    "class MyClass:\n",
    "    def __getattribute__(self, name):\n",
    "        print(f'Accessing attribute {name}')\n",
    "        return object.__getattribute__(self, name)  # Call the superclass implementation\n",
    "\n",
    "obj = MyClass()\n",
    "print(obj.some_attribute)  # This will trigger __getattribute__"
   ]
  },
  {
   "cell_type": "markdown",
   "id": "4ac3904a",
   "metadata": {},
   "source": [
    "# 2."
   ]
  },
  {
   "cell_type": "code",
   "execution_count": 3,
   "id": "6e2497f9",
   "metadata": {},
   "outputs": [
    {
     "name": "stdout",
     "output_type": "stream",
     "text": [
      "10\n"
     ]
    }
   ],
   "source": [
    "# Properties and descriptors are both mechanisms in Python for managing attribute access in classes, but they serve different\n",
    "# purposes and have different implementations:\n",
    "\n",
    "# a) Properties:\n",
    "# 1. Properties are a built-in feature in Python that allow you to define special methods (getter, setter, and deleter) to \n",
    "#     manage attribute access.\n",
    "# 2. Properties are defined at the class level using the property built-in function or the @property decorator.\n",
    "# 3  Properties are often used to provide controlled access to class attributes, allowing you to execute custom code when\n",
    "#     getting, setting, or deleting an attribute.\n",
    "    \n",
    "# example:\n",
    "class MyClass:\n",
    "    def __init__(self):\n",
    "        self._value = 0  # Private attribute\n",
    "\n",
    "    @property\n",
    "    def value(self):\n",
    "        return self._value\n",
    "\n",
    "    @value.setter\n",
    "    def value(self, new_value):\n",
    "        if new_value < 0:\n",
    "            raise ValueError(\"Value must be non-negative\")\n",
    "        self._value = new_value\n",
    "\n",
    "obj = MyClass()\n",
    "obj.value = 10  # Calls the setter method\n",
    "print(obj.value)  # Calls the getter method"
   ]
  },
  {
   "cell_type": "code",
   "execution_count": 4,
   "id": "61720938",
   "metadata": {},
   "outputs": [
    {
     "name": "stdout",
     "output_type": "stream",
     "text": [
      "10\n"
     ]
    }
   ],
   "source": [
    "# b) Descriptors:\n",
    "# 1. Descriptors are a lower-level protocol in Python that allows you to define how attribute access is handled at the level \n",
    "#     of individual attributes.\n",
    "# 2. Descriptors are implemented using classes that define __get__, __set__, and/or __delete__ methods.\n",
    "# 3. Descriptors are often used for more advanced attribute management, such as lazy loading, caching, or custom behavior \n",
    "#     for specific attributes.\n",
    "    \n",
    "# example:\n",
    "class Descriptor:\n",
    "    def __get__(self, instance, owner):\n",
    "        return instance._value\n",
    "\n",
    "    def __set__(self, instance, value):\n",
    "        if value < 0:\n",
    "            raise ValueError(\"Value must be non-negative\")\n",
    "        instance._value = value\n",
    "\n",
    "class MyClass:\n",
    "    value = Descriptor()\n",
    "\n",
    "    def __init__(self):\n",
    "        self._value = 0  # Private attribute\n",
    "\n",
    "obj = MyClass()\n",
    "obj.value = 10  # Calls the __set__ method of the Descriptor\n",
    "print(obj.value)  # Calls the __get__ method of the Descriptor"
   ]
  },
  {
   "cell_type": "markdown",
   "id": "85bd48bd",
   "metadata": {},
   "source": [
    "# 3."
   ]
  },
  {
   "cell_type": "code",
   "execution_count": 6,
   "id": "93a34e45",
   "metadata": {},
   "outputs": [
    {
     "name": "stdout",
     "output_type": "stream",
     "text": [
      "red\n"
     ]
    },
    {
     "ename": "AttributeError",
     "evalue": "'MyClass' object has no attribute 'size'",
     "output_type": "error",
     "traceback": [
      "\u001b[1;31m---------------------------------------------------------------------------\u001b[0m",
      "\u001b[1;31mAttributeError\u001b[0m                            Traceback (most recent call last)",
      "Cell \u001b[1;32mIn[6], line 21\u001b[0m\n\u001b[0;32m     19\u001b[0m obj \u001b[38;5;241m=\u001b[39m MyClass()\n\u001b[0;32m     20\u001b[0m \u001b[38;5;28mprint\u001b[39m(obj\u001b[38;5;241m.\u001b[39mcolor)  \u001b[38;5;66;03m# Calls __getattr__ and returns 'red'\u001b[39;00m\n\u001b[1;32m---> 21\u001b[0m \u001b[38;5;28mprint\u001b[39m(obj\u001b[38;5;241m.\u001b[39msize)\n",
      "Cell \u001b[1;32mIn[6], line 17\u001b[0m, in \u001b[0;36mMyClass.__getattr__\u001b[1;34m(self, name)\u001b[0m\n\u001b[0;32m     15\u001b[0m     \u001b[38;5;28;01mreturn\u001b[39;00m \u001b[38;5;124m'\u001b[39m\u001b[38;5;124mred\u001b[39m\u001b[38;5;124m'\u001b[39m\n\u001b[0;32m     16\u001b[0m \u001b[38;5;28;01melse\u001b[39;00m:\n\u001b[1;32m---> 17\u001b[0m     \u001b[38;5;28;01mraise\u001b[39;00m \u001b[38;5;167;01mAttributeError\u001b[39;00m(\u001b[38;5;124mf\u001b[39m\u001b[38;5;124m\"\u001b[39m\u001b[38;5;124m'\u001b[39m\u001b[38;5;124mMyClass\u001b[39m\u001b[38;5;124m'\u001b[39m\u001b[38;5;124m object has no attribute \u001b[39m\u001b[38;5;124m'\u001b[39m\u001b[38;5;132;01m{\u001b[39;00mname\u001b[38;5;132;01m}\u001b[39;00m\u001b[38;5;124m'\u001b[39m\u001b[38;5;124m\"\u001b[39m)\n",
      "\u001b[1;31mAttributeError\u001b[0m: 'MyClass' object has no attribute 'size'"
     ]
    }
   ],
   "source": [
    "# Here are the key differences in functionality between __getattr__, __getattribute__, properties, and descriptors in Python:\n",
    "\n",
    "# a) __getattr__:\n",
    "\n",
    "# 1.__getattr__ is a special method that gets called when an attribute lookup fails.\n",
    "# 2.It is only invoked for attributes that are not found through the usual lookup process (i.e., not present as instance \n",
    "#     attributes or in the class hierarchy).\n",
    "# 3.You can use __getattr__ to dynamically intercept attribute accesses and handle them as needed, such as by computing or \n",
    "#     generating attributes on the fly.\n",
    "    \n",
    "# example:\n",
    "class MyClass:\n",
    "    def __getattr__(self, name):\n",
    "        if name == 'color':\n",
    "            return 'red'\n",
    "        else:\n",
    "            raise AttributeError(f\"'MyClass' object has no attribute '{name}'\")\n",
    "\n",
    "obj = MyClass()\n",
    "print(obj.color)  # Calls __getattr__ and returns 'red'\n",
    "print(obj.size)   # Raises AttributeError"
   ]
  },
  {
   "cell_type": "code",
   "execution_count": 7,
   "id": "4984a128",
   "metadata": {},
   "outputs": [
    {
     "name": "stdout",
     "output_type": "stream",
     "text": [
      "red\n"
     ]
    }
   ],
   "source": [
    "# b) __getattribute__:\n",
    "\n",
    "# 1. __getattribute__ is a special method that gets called for every attribute access on an object.\n",
    "# 2. It is called first in the attribute lookup process, even before checking the instance dictionary or class hierarchy.\n",
    "# 3. You can override __getattribute__ to customize how attribute accesses are handled at a low level, but you must be careful \n",
    "#     to avoid infinite recursion.\n",
    "    \n",
    "# example:\n",
    "class MyClass:\n",
    "    def __init__(self):\n",
    "        self.color = 'blue'\n",
    "\n",
    "    def __getattribute__(self, name):\n",
    "        if name == 'color':\n",
    "            return 'red'  # Override color attribute\n",
    "        else:\n",
    "            return object.__getattribute__(self, name)  # Call superclass implementation\n",
    "\n",
    "obj = MyClass()\n",
    "print(obj.color)  # Always returns 'red', even though 'blue' is in the instance dictionary"
   ]
  },
  {
   "cell_type": "code",
   "execution_count": 9,
   "id": "9256c4a4",
   "metadata": {},
   "outputs": [
    {
     "name": "stdout",
     "output_type": "stream",
     "text": [
      "10\n"
     ]
    }
   ],
   "source": [
    "# c) Properties:\n",
    "\n",
    "# 1. Properties are a high-level way to define getter, setter, and deleter methods for attribute access.\n",
    "# 2. They allow you to customize how attribute access is handled using decorators or the property built-in function.\n",
    "# 3. Properties are typically used to add custom behavior (e.g., validation, computation) to attribute access without\n",
    "#     changing the syntax of accessing attributes.\n",
    "    \n",
    "# example:\n",
    "class MyClass:\n",
    "    def __init__(self):\n",
    "        self._value = 0  # Private attribute\n",
    "\n",
    "    @property\n",
    "    def value(self):\n",
    "        return self._value\n",
    "\n",
    "    @value.setter\n",
    "    def value(self, new_value):\n",
    "        if new_value < 0:\n",
    "            raise ValueError(\"Value must be non-negative\")\n",
    "        self._value = new_value\n",
    "\n",
    "obj = MyClass()\n",
    "obj.value = 10  # Calls the setter method\n",
    "print(obj.value)  # Calls the getter method"
   ]
  },
  {
   "cell_type": "code",
   "execution_count": 11,
   "id": "88455ce5",
   "metadata": {},
   "outputs": [
    {
     "name": "stdout",
     "output_type": "stream",
     "text": [
      "10\n"
     ]
    }
   ],
   "source": [
    "# d) Descriptors:\n",
    "\n",
    "# 1. Descriptors are a lower-level protocol for defining how attribute access is handled at the level of individual attributes.\n",
    "# 2. They are implemented using classes with __get__, __set__, and/or __delete__ methods, allowing fine-grained control over \n",
    "#     attribute behavior.\n",
    "# 3. Descriptors are often used for more advanced attribute management, such as lazy loading, caching, or custom behavior for \n",
    "#     specific attributes.\n",
    "    \n",
    "# example:\n",
    "class Descriptor:\n",
    "    def __get__(self, instance, owner):\n",
    "        return instance._value\n",
    "\n",
    "    def __set__(self, instance, value):\n",
    "        if value < 0:\n",
    "            raise ValueError(\"Value must be non-negative\")\n",
    "        instance._value = value\n",
    "\n",
    "class MyClass:\n",
    "    value = Descriptor()\n",
    "\n",
    "    def __init__(self):\n",
    "        self._value = 0  # Private attribute\n",
    "\n",
    "obj = MyClass()\n",
    "obj.value = 10  # Calls the __set__ method of the Descriptor\n",
    "print(obj.value)  # Calls the __get__ method of the Descriptor"
   ]
  },
  {
   "cell_type": "code",
   "execution_count": null,
   "id": "a6fe6214",
   "metadata": {},
   "outputs": [],
   "source": []
  }
 ],
 "metadata": {
  "kernelspec": {
   "display_name": "Python 3 (ipykernel)",
   "language": "python",
   "name": "python3"
  },
  "language_info": {
   "codemirror_mode": {
    "name": "ipython",
    "version": 3
   },
   "file_extension": ".py",
   "mimetype": "text/x-python",
   "name": "python",
   "nbconvert_exporter": "python",
   "pygments_lexer": "ipython3",
   "version": "3.11.5"
  }
 },
 "nbformat": 4,
 "nbformat_minor": 5
}
